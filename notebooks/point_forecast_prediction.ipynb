{
 "cells": [
  {
   "cell_type": "code",
   "execution_count": 1,
   "metadata": {},
   "outputs": [],
   "source": [
    "import pandas as pd\n",
    "import numpy as np\n",
    "import sys\n",
    "import os\n",
    "sys.path.append(os.path.abspath(\"..\"))\n",
    "from scripts.point_forecast_prediction import prepare_training_data, train_regression_tree, forecast_point_generation"
   ]
  },
  {
   "cell_type": "code",
   "execution_count": 2,
   "metadata": {},
   "outputs": [],
   "source": [
    "# Generate simulated data\n",
    "seed = 42\n",
    "hours = 24\n",
    "np.random.seed(seed)\n",
    "timestamps = pd.date_range(\"2022-06-01\", periods=hours, freq=\"h\", tz=\"UTC\")\n",
    "df = pd.DataFrame({\"timestamp\": timestamps})\n",
    "df[\"temperature\"] = 25 + 5 * np.sin(np.pi * df.index / hours)\n",
    "df[\"cloudiness\"] = np.clip(np.random.normal(0.5, 0.3, size=hours), 0, 1)\n",
    "df[\"humidity\"] = 60 + 10 * np.random.rand(hours)\n",
    "df[\"Ppccs\"] = 5000 * np.clip(np.sin(np.pi * df.index / hours), 0, 1)\n",
    "df[\"Pm\"] = df[\"Ppccs\"] * (1 - df[\"cloudiness\"] * 0.6)"
   ]
  },
  {
   "cell_type": "code",
   "execution_count": 3,
   "metadata": {},
   "outputs": [
    {
     "data": {
      "text/html": [
       "<div>\n",
       "<style scoped>\n",
       "    .dataframe tbody tr th:only-of-type {\n",
       "        vertical-align: middle;\n",
       "    }\n",
       "\n",
       "    .dataframe tbody tr th {\n",
       "        vertical-align: top;\n",
       "    }\n",
       "\n",
       "    .dataframe thead th {\n",
       "        text-align: right;\n",
       "    }\n",
       "</style>\n",
       "<table border=\"1\" class=\"dataframe\">\n",
       "  <thead>\n",
       "    <tr style=\"text-align: right;\">\n",
       "      <th></th>\n",
       "      <th>timestamp</th>\n",
       "      <th>temperature</th>\n",
       "      <th>cloudiness</th>\n",
       "      <th>humidity</th>\n",
       "      <th>Ppccs</th>\n",
       "      <th>Pm</th>\n",
       "    </tr>\n",
       "  </thead>\n",
       "  <tbody>\n",
       "    <tr>\n",
       "      <th>0</th>\n",
       "      <td>2022-06-01 00:00:00+00:00</td>\n",
       "      <td>25.000000</td>\n",
       "      <td>0.649014</td>\n",
       "      <td>65.924146</td>\n",
       "      <td>0.000000</td>\n",
       "      <td>0.000000</td>\n",
       "    </tr>\n",
       "    <tr>\n",
       "      <th>1</th>\n",
       "      <td>2022-06-01 01:00:00+00:00</td>\n",
       "      <td>25.652631</td>\n",
       "      <td>0.458521</td>\n",
       "      <td>60.464504</td>\n",
       "      <td>652.630961</td>\n",
       "      <td>473.084074</td>\n",
       "    </tr>\n",
       "    <tr>\n",
       "      <th>2</th>\n",
       "      <td>2022-06-01 02:00:00+00:00</td>\n",
       "      <td>26.294095</td>\n",
       "      <td>0.694307</td>\n",
       "      <td>66.075449</td>\n",
       "      <td>1294.095226</td>\n",
       "      <td>754.995942</td>\n",
       "    </tr>\n",
       "    <tr>\n",
       "      <th>3</th>\n",
       "      <td>2022-06-01 03:00:00+00:00</td>\n",
       "      <td>26.913417</td>\n",
       "      <td>0.956909</td>\n",
       "      <td>61.705241</td>\n",
       "      <td>1913.417162</td>\n",
       "      <td>814.837550</td>\n",
       "    </tr>\n",
       "    <tr>\n",
       "      <th>4</th>\n",
       "      <td>2022-06-01 04:00:00+00:00</td>\n",
       "      <td>27.500000</td>\n",
       "      <td>0.429754</td>\n",
       "      <td>60.650516</td>\n",
       "      <td>2500.000000</td>\n",
       "      <td>1855.369019</td>\n",
       "    </tr>\n",
       "  </tbody>\n",
       "</table>\n",
       "</div>"
      ],
      "text/plain": [
       "                  timestamp  temperature  cloudiness   humidity        Ppccs  \\\n",
       "0 2022-06-01 00:00:00+00:00    25.000000    0.649014  65.924146     0.000000   \n",
       "1 2022-06-01 01:00:00+00:00    25.652631    0.458521  60.464504   652.630961   \n",
       "2 2022-06-01 02:00:00+00:00    26.294095    0.694307  66.075449  1294.095226   \n",
       "3 2022-06-01 03:00:00+00:00    26.913417    0.956909  61.705241  1913.417162   \n",
       "4 2022-06-01 04:00:00+00:00    27.500000    0.429754  60.650516  2500.000000   \n",
       "\n",
       "            Pm  \n",
       "0     0.000000  \n",
       "1   473.084074  \n",
       "2   754.995942  \n",
       "3   814.837550  \n",
       "4  1855.369019  "
      ]
     },
     "execution_count": 3,
     "metadata": {},
     "output_type": "execute_result"
    }
   ],
   "source": [
    "df.head()"
   ]
  },
  {
   "cell_type": "code",
   "execution_count": 4,
   "metadata": {},
   "outputs": [],
   "source": [
    "# Prepare training data\n",
    "features = [\"temperature\", \"cloudiness\", \"humidity\"]\n",
    "X_train, y_train = prepare_training_data(df, features)"
   ]
  },
  {
   "cell_type": "code",
   "execution_count": 5,
   "metadata": {},
   "outputs": [
    {
     "data": {
      "text/html": [
       "<div>\n",
       "<style scoped>\n",
       "    .dataframe tbody tr th:only-of-type {\n",
       "        vertical-align: middle;\n",
       "    }\n",
       "\n",
       "    .dataframe tbody tr th {\n",
       "        vertical-align: top;\n",
       "    }\n",
       "\n",
       "    .dataframe thead th {\n",
       "        text-align: right;\n",
       "    }\n",
       "</style>\n",
       "<table border=\"1\" class=\"dataframe\">\n",
       "  <thead>\n",
       "    <tr style=\"text-align: right;\">\n",
       "      <th></th>\n",
       "      <th>temperature</th>\n",
       "      <th>cloudiness</th>\n",
       "      <th>humidity</th>\n",
       "    </tr>\n",
       "  </thead>\n",
       "  <tbody>\n",
       "    <tr>\n",
       "      <th>1</th>\n",
       "      <td>25.652631</td>\n",
       "      <td>0.458521</td>\n",
       "      <td>60.464504</td>\n",
       "    </tr>\n",
       "    <tr>\n",
       "      <th>2</th>\n",
       "      <td>26.294095</td>\n",
       "      <td>0.694307</td>\n",
       "      <td>66.075449</td>\n",
       "    </tr>\n",
       "    <tr>\n",
       "      <th>3</th>\n",
       "      <td>26.913417</td>\n",
       "      <td>0.956909</td>\n",
       "      <td>61.705241</td>\n",
       "    </tr>\n",
       "    <tr>\n",
       "      <th>4</th>\n",
       "      <td>27.500000</td>\n",
       "      <td>0.429754</td>\n",
       "      <td>60.650516</td>\n",
       "    </tr>\n",
       "    <tr>\n",
       "      <th>5</th>\n",
       "      <td>28.043807</td>\n",
       "      <td>0.429759</td>\n",
       "      <td>69.488855</td>\n",
       "    </tr>\n",
       "  </tbody>\n",
       "</table>\n",
       "</div>"
      ],
      "text/plain": [
       "   temperature  cloudiness   humidity\n",
       "1    25.652631    0.458521  60.464504\n",
       "2    26.294095    0.694307  66.075449\n",
       "3    26.913417    0.956909  61.705241\n",
       "4    27.500000    0.429754  60.650516\n",
       "5    28.043807    0.429759  69.488855"
      ]
     },
     "execution_count": 5,
     "metadata": {},
     "output_type": "execute_result"
    }
   ],
   "source": [
    "X_train.head()"
   ]
  },
  {
   "cell_type": "code",
   "execution_count": 6,
   "metadata": {},
   "outputs": [
    {
     "data": {
      "text/plain": [
       "(23, 3)"
      ]
     },
     "execution_count": 6,
     "metadata": {},
     "output_type": "execute_result"
    }
   ],
   "source": [
    "X_train.shape"
   ]
  },
  {
   "cell_type": "code",
   "execution_count": 7,
   "metadata": {},
   "outputs": [
    {
     "data": {
      "text/plain": [
       "1    0.275112\n",
       "2    0.416584\n",
       "3    0.574145\n",
       "4    0.257852\n",
       "5    0.257855\n",
       "Name: Lambda, dtype: float64"
      ]
     },
     "execution_count": 7,
     "metadata": {},
     "output_type": "execute_result"
    }
   ],
   "source": [
    "y_train.head()"
   ]
  },
  {
   "cell_type": "code",
   "execution_count": 8,
   "metadata": {},
   "outputs": [
    {
     "data": {
      "text/plain": [
       "(23,)"
      ]
     },
     "execution_count": 8,
     "metadata": {},
     "output_type": "execute_result"
    }
   ],
   "source": [
    "y_train.shape"
   ]
  },
  {
   "cell_type": "code",
   "execution_count": 9,
   "metadata": {},
   "outputs": [],
   "source": [
    "# Train regression tree\n",
    "model = train_regression_tree(X_train, y_train)"
   ]
  },
  {
   "cell_type": "code",
   "execution_count": 10,
   "metadata": {},
   "outputs": [],
   "source": [
    "# Generate point forecast for the next 24 hours\n",
    "df_forecast = forecast_point_generation(model, df, features)"
   ]
  },
  {
   "cell_type": "code",
   "execution_count": 11,
   "metadata": {},
   "outputs": [
    {
     "data": {
      "text/html": [
       "<div>\n",
       "<style scoped>\n",
       "    .dataframe tbody tr th:only-of-type {\n",
       "        vertical-align: middle;\n",
       "    }\n",
       "\n",
       "    .dataframe tbody tr th {\n",
       "        vertical-align: top;\n",
       "    }\n",
       "\n",
       "    .dataframe thead th {\n",
       "        text-align: right;\n",
       "    }\n",
       "</style>\n",
       "<table border=\"1\" class=\"dataframe\">\n",
       "  <thead>\n",
       "    <tr style=\"text-align: right;\">\n",
       "      <th></th>\n",
       "      <th>timestamp</th>\n",
       "      <th>temperature</th>\n",
       "      <th>cloudiness</th>\n",
       "      <th>humidity</th>\n",
       "      <th>Ppccs</th>\n",
       "      <th>Pm</th>\n",
       "      <th>Ppf</th>\n",
       "    </tr>\n",
       "  </thead>\n",
       "  <tbody>\n",
       "    <tr>\n",
       "      <th>0</th>\n",
       "      <td>2022-06-01 00:00:00+00:00</td>\n",
       "      <td>25.000000</td>\n",
       "      <td>0.649014</td>\n",
       "      <td>65.924146</td>\n",
       "      <td>0.000000</td>\n",
       "      <td>0.000000</td>\n",
       "      <td>0.000000</td>\n",
       "    </tr>\n",
       "    <tr>\n",
       "      <th>1</th>\n",
       "      <td>2022-06-01 01:00:00+00:00</td>\n",
       "      <td>25.652631</td>\n",
       "      <td>0.458521</td>\n",
       "      <td>60.464504</td>\n",
       "      <td>652.630961</td>\n",
       "      <td>473.084074</td>\n",
       "      <td>476.101955</td>\n",
       "    </tr>\n",
       "    <tr>\n",
       "      <th>2</th>\n",
       "      <td>2022-06-01 02:00:00+00:00</td>\n",
       "      <td>26.294095</td>\n",
       "      <td>0.694307</td>\n",
       "      <td>66.075449</td>\n",
       "      <td>1294.095226</td>\n",
       "      <td>754.995942</td>\n",
       "      <td>702.473197</td>\n",
       "    </tr>\n",
       "    <tr>\n",
       "      <th>3</th>\n",
       "      <td>2022-06-01 03:00:00+00:00</td>\n",
       "      <td>26.913417</td>\n",
       "      <td>0.956909</td>\n",
       "      <td>61.705241</td>\n",
       "      <td>1913.417162</td>\n",
       "      <td>814.837550</td>\n",
       "      <td>820.807689</td>\n",
       "    </tr>\n",
       "    <tr>\n",
       "      <th>4</th>\n",
       "      <td>2022-06-01 04:00:00+00:00</td>\n",
       "      <td>27.500000</td>\n",
       "      <td>0.429754</td>\n",
       "      <td>60.650516</td>\n",
       "      <td>2500.000000</td>\n",
       "      <td>1855.369019</td>\n",
       "      <td>1851.053272</td>\n",
       "    </tr>\n",
       "  </tbody>\n",
       "</table>\n",
       "</div>"
      ],
      "text/plain": [
       "                  timestamp  temperature  cloudiness   humidity        Ppccs  \\\n",
       "0 2022-06-01 00:00:00+00:00    25.000000    0.649014  65.924146     0.000000   \n",
       "1 2022-06-01 01:00:00+00:00    25.652631    0.458521  60.464504   652.630961   \n",
       "2 2022-06-01 02:00:00+00:00    26.294095    0.694307  66.075449  1294.095226   \n",
       "3 2022-06-01 03:00:00+00:00    26.913417    0.956909  61.705241  1913.417162   \n",
       "4 2022-06-01 04:00:00+00:00    27.500000    0.429754  60.650516  2500.000000   \n",
       "\n",
       "            Pm          Ppf  \n",
       "0     0.000000     0.000000  \n",
       "1   473.084074   476.101955  \n",
       "2   754.995942   702.473197  \n",
       "3   814.837550   820.807689  \n",
       "4  1855.369019  1851.053272  "
      ]
     },
     "execution_count": 11,
     "metadata": {},
     "output_type": "execute_result"
    }
   ],
   "source": [
    "df_forecast.head()"
   ]
  },
  {
   "cell_type": "code",
   "execution_count": null,
   "metadata": {},
   "outputs": [],
   "source": []
  }
 ],
 "metadata": {
  "kernelspec": {
   "display_name": "solar-forecasting",
   "language": "python",
   "name": "solar-forecasting"
  },
  "language_info": {
   "codemirror_mode": {
    "name": "ipython",
    "version": 3
   },
   "file_extension": ".py",
   "mimetype": "text/x-python",
   "name": "python",
   "nbconvert_exporter": "python",
   "pygments_lexer": "ipython3",
   "version": "3.10.16"
  }
 },
 "nbformat": 4,
 "nbformat_minor": 2
}
